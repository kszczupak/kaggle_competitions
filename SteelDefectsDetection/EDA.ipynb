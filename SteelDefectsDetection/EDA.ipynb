{
 "cells": [
  {
   "cell_type": "code",
   "execution_count": 1,
   "metadata": {},
   "outputs": [],
   "source": [
    "%matplotlib inline\n",
    "import os\n",
    "from pathlib import Path\n",
    "from fastai.datasets import Config\n",
    "import pandas as pd\n",
    "import numpy as np\n",
    "\n",
    "import torch\n",
    "import gc\n",
    "\n",
    "base_path = Config.data_path()\n",
    "data_path = base_path/'Steel_Defects_Detection'\n",
    "competition_name = 'severstal-steel-defect-detection'\n",
    "data_path.mkdir(parents=True, exist_ok=True)"
   ]
  },
  {
   "cell_type": "markdown",
   "metadata": {},
   "source": [
    "## Files setup"
   ]
  },
  {
   "cell_type": "code",
   "execution_count": 7,
   "metadata": {},
   "outputs": [
    {
     "name": "stdout",
     "output_type": "stream",
     "text": [
      "name                    size  creationDate         \r\n",
      "---------------------  -----  -------------------  \r\n",
      "train.csv               18MB  2019-07-18 01:25:58  \r\n",
      "sample_submission.csv  141KB  2019-07-18 01:26:00  \r\n",
      "train_images.zip         1GB  2019-07-18 01:26:19  \r\n",
      "test_images.zip        129MB  2019-07-18 01:26:20  \r\n"
     ]
    }
   ],
   "source": [
    "!kaggle competitions files -c {competition_name}"
   ]
  },
  {
   "cell_type": "code",
   "execution_count": 8,
   "metadata": {},
   "outputs": [
    {
     "name": "stdout",
     "output_type": "stream",
     "text": [
      "Downloading train.csv.zip to /home/jupyter/.fastai/data/Steel_Defects_Detection\n",
      " 72%|███████████████████████████▍          | 5.00M/6.91M [00:00<00:00, 31.0MB/s]\n",
      "100%|██████████████████████████████████████| 6.91M/6.91M [00:00<00:00, 41.5MB/s]\n",
      "Downloading sample_submission.csv to /home/jupyter/.fastai/data/Steel_Defects_Detection\n",
      "  0%|                                                | 0.00/141k [00:00<?, ?B/s]\n",
      "100%|█████████████████████████████████████████| 141k/141k [00:00<00:00, 102MB/s]\n",
      "Downloading train_images.zip to /home/jupyter/.fastai/data/Steel_Defects_Detection\n",
      " 99%|██████████████████████████████████████▌| 1.15G/1.16G [00:09<00:00, 117MB/s]\n",
      "100%|███████████████████████████████████████| 1.16G/1.16G [00:09<00:00, 125MB/s]\n",
      "Downloading test_images.zip to /home/jupyter/.fastai/data/Steel_Defects_Detection\n",
      " 95%|█████████████████████████████████████▊  | 122M/129M [00:02<00:00, 50.6MB/s]\n",
      "100%|████████████████████████████████████████| 129M/129M [00:02<00:00, 66.0MB/s]\n"
     ]
    }
   ],
   "source": [
    "!kaggle competitions download --force -c {competition_name} -p {data_path}"
   ]
  },
  {
   "cell_type": "code",
   "execution_count": 9,
   "metadata": {},
   "outputs": [
    {
     "data": {
      "text/plain": [
       "[PosixPath('/home/jupyter/.fastai/data/Steel_Defects_Detection/train.csv.zip'),\n",
       " PosixPath('/home/jupyter/.fastai/data/Steel_Defects_Detection/train_images.zip'),\n",
       " PosixPath('/home/jupyter/.fastai/data/Steel_Defects_Detection/sample_submission.csv'),\n",
       " PosixPath('/home/jupyter/.fastai/data/Steel_Defects_Detection/test_images.zip')]"
      ]
     },
     "execution_count": 9,
     "metadata": {},
     "output_type": "execute_result"
    }
   ],
   "source": [
    "data_path.ls()"
   ]
  },
  {
   "cell_type": "code",
   "execution_count": 12,
   "metadata": {},
   "outputs": [
    {
     "name": "stdout",
     "output_type": "stream",
     "text": [
      "Unziping train.csv.zip ...\n",
      "Done\n",
      "Unziping train_images.zip ...\n",
      "Done\n",
      "Unziping test_images.zip ...\n",
      "Done\n"
     ]
    }
   ],
   "source": [
    "from zipfile import ZipFile\n",
    "\n",
    "file_name = \"train.csv.zip\"\n",
    "print(f\"Unziping {file_name} ...\")\n",
    "with ZipFile(data_path/file_name, 'r') as zip_ref:\n",
    "    zip_ref.extractall(data_path)\n",
    "\n",
    "os.remove(data_path/file_name)\n",
    "print(\"Done\")\n",
    "\n",
    "file_name = \"train_images.zip\"\n",
    "print(f\"Unziping {file_name} ...\")\n",
    "train_files_destination = data_path/'train_images'\n",
    "train_files_destination.mkdir()\n",
    "with ZipFile(data_path/file_name, 'r') as zip_ref:\n",
    "    zip_ref.extractall(train_files_destination)\n",
    "\n",
    "os.remove(data_path/file_name)\n",
    "print(\"Done\")\n",
    "\n",
    "file_name = \"test_images.zip\"\n",
    "print(f\"Unziping {file_name} ...\")\n",
    "test_files_destination = data_path/'test_images'\n",
    "test_files_destination.mkdir()\n",
    "with ZipFile(data_path/file_name, 'r') as zip_ref:\n",
    "    zip_ref.extractall(test_files_destination)\n",
    "\n",
    "os.remove(data_path/file_name)\n",
    "print(\"Done\")"
   ]
  },
  {
   "cell_type": "code",
   "execution_count": 13,
   "metadata": {},
   "outputs": [
    {
     "data": {
      "text/plain": [
       "[PosixPath('/home/jupyter/.fastai/data/Steel_Defects_Detection/train.csv'),\n",
       " PosixPath('/home/jupyter/.fastai/data/Steel_Defects_Detection/sample_submission.csv'),\n",
       " PosixPath('/home/jupyter/.fastai/data/Steel_Defects_Detection/test_images'),\n",
       " PosixPath('/home/jupyter/.fastai/data/Steel_Defects_Detection/train_images')]"
      ]
     },
     "execution_count": 13,
     "metadata": {},
     "output_type": "execute_result"
    }
   ],
   "source": [
    "data_path.ls()"
   ]
  },
  {
   "cell_type": "markdown",
   "metadata": {},
   "source": [
    "## EDA"
   ]
  },
  {
   "cell_type": "code",
   "execution_count": 2,
   "metadata": {},
   "outputs": [],
   "source": [
    "train_df = pd.read_csv(data_path/'train.csv')"
   ]
  },
  {
   "cell_type": "code",
   "execution_count": 3,
   "metadata": {},
   "outputs": [
    {
     "data": {
      "text/html": [
       "<div>\n",
       "<style scoped>\n",
       "    .dataframe tbody tr th:only-of-type {\n",
       "        vertical-align: middle;\n",
       "    }\n",
       "\n",
       "    .dataframe tbody tr th {\n",
       "        vertical-align: top;\n",
       "    }\n",
       "\n",
       "    .dataframe thead th {\n",
       "        text-align: right;\n",
       "    }\n",
       "</style>\n",
       "<table border=\"1\" class=\"dataframe\">\n",
       "  <thead>\n",
       "    <tr style=\"text-align: right;\">\n",
       "      <th></th>\n",
       "      <th>ImageId_ClassId</th>\n",
       "      <th>EncodedPixels</th>\n",
       "    </tr>\n",
       "  </thead>\n",
       "  <tbody>\n",
       "    <tr>\n",
       "      <th>0</th>\n",
       "      <td>0002cc93b.jpg_1</td>\n",
       "      <td>29102 12 29346 24 29602 24 29858 24 30114 24 3...</td>\n",
       "    </tr>\n",
       "    <tr>\n",
       "      <th>1</th>\n",
       "      <td>0002cc93b.jpg_2</td>\n",
       "      <td>NaN</td>\n",
       "    </tr>\n",
       "    <tr>\n",
       "      <th>2</th>\n",
       "      <td>0002cc93b.jpg_3</td>\n",
       "      <td>NaN</td>\n",
       "    </tr>\n",
       "    <tr>\n",
       "      <th>3</th>\n",
       "      <td>0002cc93b.jpg_4</td>\n",
       "      <td>NaN</td>\n",
       "    </tr>\n",
       "    <tr>\n",
       "      <th>4</th>\n",
       "      <td>00031f466.jpg_1</td>\n",
       "      <td>NaN</td>\n",
       "    </tr>\n",
       "  </tbody>\n",
       "</table>\n",
       "</div>"
      ],
      "text/plain": [
       "   ImageId_ClassId                                      EncodedPixels\n",
       "0  0002cc93b.jpg_1  29102 12 29346 24 29602 24 29858 24 30114 24 3...\n",
       "1  0002cc93b.jpg_2                                                NaN\n",
       "2  0002cc93b.jpg_3                                                NaN\n",
       "3  0002cc93b.jpg_4                                                NaN\n",
       "4  00031f466.jpg_1                                                NaN"
      ]
     },
     "execution_count": 3,
     "metadata": {},
     "output_type": "execute_result"
    }
   ],
   "source": [
    "train_df.head()"
   ]
  },
  {
   "cell_type": "code",
   "execution_count": 4,
   "metadata": {},
   "outputs": [],
   "source": [
    "# Prepare train df\n",
    "\n",
    "train_df['Image_Id'] = train_df['ImageId_ClassId'].apply(lambda x: x[:-2])\n",
    "train_df['Class_Id'] = train_df['ImageId_ClassId'].apply(lambda x: x[-1:])\n",
    "train_df.drop('ImageId_ClassId', axis=1, inplace=True)\n",
    "train_df.set_index('Image_Id', inplace=True)"
   ]
  },
  {
   "cell_type": "code",
   "execution_count": 5,
   "metadata": {},
   "outputs": [
    {
     "data": {
      "text/html": [
       "<div>\n",
       "<style scoped>\n",
       "    .dataframe tbody tr th:only-of-type {\n",
       "        vertical-align: middle;\n",
       "    }\n",
       "\n",
       "    .dataframe tbody tr th {\n",
       "        vertical-align: top;\n",
       "    }\n",
       "\n",
       "    .dataframe thead th {\n",
       "        text-align: right;\n",
       "    }\n",
       "</style>\n",
       "<table border=\"1\" class=\"dataframe\">\n",
       "  <thead>\n",
       "    <tr style=\"text-align: right;\">\n",
       "      <th></th>\n",
       "      <th>EncodedPixels</th>\n",
       "      <th>Class_Id</th>\n",
       "    </tr>\n",
       "    <tr>\n",
       "      <th>Image_Id</th>\n",
       "      <th></th>\n",
       "      <th></th>\n",
       "    </tr>\n",
       "  </thead>\n",
       "  <tbody>\n",
       "    <tr>\n",
       "      <th>0002cc93b.jpg</th>\n",
       "      <td>29102 12 29346 24 29602 24 29858 24 30114 24 3...</td>\n",
       "      <td>1</td>\n",
       "    </tr>\n",
       "    <tr>\n",
       "      <th>0002cc93b.jpg</th>\n",
       "      <td>NaN</td>\n",
       "      <td>2</td>\n",
       "    </tr>\n",
       "    <tr>\n",
       "      <th>0002cc93b.jpg</th>\n",
       "      <td>NaN</td>\n",
       "      <td>3</td>\n",
       "    </tr>\n",
       "    <tr>\n",
       "      <th>0002cc93b.jpg</th>\n",
       "      <td>NaN</td>\n",
       "      <td>4</td>\n",
       "    </tr>\n",
       "    <tr>\n",
       "      <th>00031f466.jpg</th>\n",
       "      <td>NaN</td>\n",
       "      <td>1</td>\n",
       "    </tr>\n",
       "  </tbody>\n",
       "</table>\n",
       "</div>"
      ],
      "text/plain": [
       "                                                   EncodedPixels Class_Id\n",
       "Image_Id                                                                 \n",
       "0002cc93b.jpg  29102 12 29346 24 29602 24 29858 24 30114 24 3...        1\n",
       "0002cc93b.jpg                                                NaN        2\n",
       "0002cc93b.jpg                                                NaN        3\n",
       "0002cc93b.jpg                                                NaN        4\n",
       "00031f466.jpg                                                NaN        1"
      ]
     },
     "execution_count": 5,
     "metadata": {},
     "output_type": "execute_result"
    }
   ],
   "source": [
    "train_df.head()"
   ]
  },
  {
   "cell_type": "code",
   "execution_count": 6,
   "metadata": {},
   "outputs": [
    {
     "data": {
      "text/html": [
       "<div>\n",
       "<style scoped>\n",
       "    .dataframe tbody tr th:only-of-type {\n",
       "        vertical-align: middle;\n",
       "    }\n",
       "\n",
       "    .dataframe tbody tr th {\n",
       "        vertical-align: top;\n",
       "    }\n",
       "\n",
       "    .dataframe thead th {\n",
       "        text-align: right;\n",
       "    }\n",
       "</style>\n",
       "<table border=\"1\" class=\"dataframe\">\n",
       "  <thead>\n",
       "    <tr style=\"text-align: right;\">\n",
       "      <th></th>\n",
       "      <th>EncodedPixels</th>\n",
       "      <th>Class_Id</th>\n",
       "    </tr>\n",
       "    <tr>\n",
       "      <th>Image_Id</th>\n",
       "      <th></th>\n",
       "      <th></th>\n",
       "    </tr>\n",
       "  </thead>\n",
       "  <tbody>\n",
       "    <tr>\n",
       "      <th>0002cc93b.jpg</th>\n",
       "      <td>29102 12 29346 24 29602 24 29858 24 30114 24 3...</td>\n",
       "      <td>1</td>\n",
       "    </tr>\n",
       "    <tr>\n",
       "      <th>0002cc93b.jpg</th>\n",
       "      <td>NaN</td>\n",
       "      <td>2</td>\n",
       "    </tr>\n",
       "    <tr>\n",
       "      <th>0002cc93b.jpg</th>\n",
       "      <td>NaN</td>\n",
       "      <td>3</td>\n",
       "    </tr>\n",
       "    <tr>\n",
       "      <th>0002cc93b.jpg</th>\n",
       "      <td>NaN</td>\n",
       "      <td>4</td>\n",
       "    </tr>\n",
       "  </tbody>\n",
       "</table>\n",
       "</div>"
      ],
      "text/plain": [
       "                                                   EncodedPixels Class_Id\n",
       "Image_Id                                                                 \n",
       "0002cc93b.jpg  29102 12 29346 24 29602 24 29858 24 30114 24 3...        1\n",
       "0002cc93b.jpg                                                NaN        2\n",
       "0002cc93b.jpg                                                NaN        3\n",
       "0002cc93b.jpg                                                NaN        4"
      ]
     },
     "execution_count": 6,
     "metadata": {},
     "output_type": "execute_result"
    }
   ],
   "source": []
  },
  {
   "cell_type": "code",
   "execution_count": 35,
   "metadata": {},
   "outputs": [
    {
     "data": {
      "text/html": [
       "<div>\n",
       "<style scoped>\n",
       "    .dataframe tbody tr th:only-of-type {\n",
       "        vertical-align: middle;\n",
       "    }\n",
       "\n",
       "    .dataframe tbody tr th {\n",
       "        vertical-align: top;\n",
       "    }\n",
       "\n",
       "    .dataframe thead th {\n",
       "        text-align: right;\n",
       "    }\n",
       "</style>\n",
       "<table border=\"1\" class=\"dataframe\">\n",
       "  <thead>\n",
       "    <tr style=\"text-align: right;\">\n",
       "      <th></th>\n",
       "      <th>EncodedPixels</th>\n",
       "      <th>Class_Id</th>\n",
       "    </tr>\n",
       "    <tr>\n",
       "      <th>Image_Id</th>\n",
       "      <th></th>\n",
       "      <th></th>\n",
       "    </tr>\n",
       "  </thead>\n",
       "  <tbody>\n",
       "    <tr>\n",
       "      <th>00031f466.jpg</th>\n",
       "      <td>NaN</td>\n",
       "      <td>1</td>\n",
       "    </tr>\n",
       "    <tr>\n",
       "      <th>00031f466.jpg</th>\n",
       "      <td>NaN</td>\n",
       "      <td>2</td>\n",
       "    </tr>\n",
       "    <tr>\n",
       "      <th>00031f466.jpg</th>\n",
       "      <td>NaN</td>\n",
       "      <td>3</td>\n",
       "    </tr>\n",
       "    <tr>\n",
       "      <th>00031f466.jpg</th>\n",
       "      <td>NaN</td>\n",
       "      <td>4</td>\n",
       "    </tr>\n",
       "  </tbody>\n",
       "</table>\n",
       "</div>"
      ],
      "text/plain": [
       "              EncodedPixels Class_Id\n",
       "Image_Id                            \n",
       "00031f466.jpg           NaN        1\n",
       "00031f466.jpg           NaN        2\n",
       "00031f466.jpg           NaN        3\n",
       "00031f466.jpg           NaN        4"
      ]
     },
     "execution_count": 35,
     "metadata": {},
     "output_type": "execute_result"
    }
   ],
   "source": []
  },
  {
   "cell_type": "code",
   "execution_count": null,
   "metadata": {},
   "outputs": [],
   "source": []
  }
 ],
 "metadata": {
  "kernelspec": {
   "display_name": "Python [conda env:kaggle_sandbox]",
   "language": "python",
   "name": "conda-env-kaggle_sandbox-py"
  },
  "language_info": {
   "codemirror_mode": {
    "name": "ipython",
    "version": 3
   },
   "file_extension": ".py",
   "mimetype": "text/x-python",
   "name": "python",
   "nbconvert_exporter": "python",
   "pygments_lexer": "ipython3",
   "version": "3.7.2"
  }
 },
 "nbformat": 4,
 "nbformat_minor": 2
}
