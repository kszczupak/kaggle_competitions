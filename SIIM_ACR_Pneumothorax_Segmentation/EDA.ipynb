{
 "cells": [
  {
   "cell_type": "code",
   "execution_count": 1,
   "metadata": {},
   "outputs": [],
   "source": [
    "%matplotlib inline\n",
    "import os\n",
    "from pathlib import Path\n",
    "\n",
    "import pandas as pd\n",
    "import numpy as np\n",
    "\n",
    "import matplotlib.pyplot as plt\n",
    "# import seaborn as sns\n",
    "from tqdm import trange, tqdm, tqdm_notebook\n",
    "\n",
    "from sklearn.ensemble import GradientBoostingClassifier, RandomForestClassifier\n",
    "from sklearn.linear_model import LinearRegression\n",
    "from sklearn.metrics import roc_auc_score\n",
    "from sklearn.model_selection import train_test_split, StratifiedKFold\n",
    "from sklearn.preprocessing import StandardScaler\n",
    "from sklearn.utils import shuffle\n",
    "import lightgbm as lgb\n",
    "\n",
    "from scipy.signal import hilbert\n",
    "from scipy.signal import hann\n",
    "from scipy.signal import convolve\n",
    "from scipy import stats\n",
    "\n",
    "from fastai.datasets import Config\n",
    "\n",
    "import warnings\n",
    "warnings.filterwarnings(\"ignore\")\n",
    "\n",
    "base_path = Config.data_path()"
   ]
  },
  {
   "cell_type": "markdown",
   "metadata": {},
   "source": [
    "# Competiton files setup"
   ]
  },
  {
   "cell_type": "code",
   "execution_count": 2,
   "metadata": {},
   "outputs": [
    {
     "data": {
      "text/plain": [
       "PosixPath('/home/krzysiek/.fastai/data/SIIM_ACR_Pneumothorax_Segmentation')"
      ]
     },
     "execution_count": 2,
     "metadata": {},
     "output_type": "execute_result"
    }
   ],
   "source": [
    "data_path = base_path/'SIIM_ACR_Pneumothorax_Segmentation'\n",
    "competition_name = 'siim-acr-pneumothorax-segmentation'\n",
    "data_path.mkdir(parents=True, exist_ok=True)\n",
    "data_path"
   ]
  },
  {
   "cell_type": "code",
   "execution_count": 3,
   "metadata": {},
   "outputs": [
    {
     "name": "stdout",
     "output_type": "stream",
     "text": [
      "name                   size  creationDate         \r\n",
      "---------------------  ----  -------------------  \r\n",
      "download_images.py      4KB  2019-06-25 19:15:44  \r\n",
      "mask_functions.py       1KB  2019-06-25 19:15:44  \r\n",
      "sample images.zip       1MB  2019-06-25 19:15:44  \r\n",
      "sample_submission.csv  84KB  2019-06-25 19:15:42  \r\n"
     ]
    }
   ],
   "source": [
    "!kaggle competitions files -c {competition_name}"
   ]
  },
  {
   "cell_type": "code",
   "execution_count": 4,
   "metadata": {},
   "outputs": [
    {
     "name": "stdout",
     "output_type": "stream",
     "text": [
      "Downloading download_images.py to /home/krzysiek/.fastai/data/SIIM_ACR_Pneumothorax_Segmentation\n",
      "  0%|                                               | 0.00/3.61k [00:00<?, ?B/s]\n",
      "100%|███████████████████████████████████████| 3.61k/3.61k [00:00<00:00, 242kB/s]\n",
      "Downloading mask_functions.py to /home/krzysiek/.fastai/data/SIIM_ACR_Pneumothorax_Segmentation\n",
      "  0%|                                               | 0.00/1.19k [00:00<?, ?B/s]\n",
      "100%|███████████████████████████████████████| 1.19k/1.19k [00:00<00:00, 203kB/s]\n",
      "Downloading sample%20images.zip to /home/krzysiek/.fastai/data/SIIM_ACR_Pneumothorax_Segmentation\n",
      "100%|███████████████████████████████████████| 1.29M/1.29M [00:02<00:00, 617kB/s]\n",
      "\n",
      "Downloading sample_submission.csv to /home/krzysiek/.fastai/data/SIIM_ACR_Pneumothorax_Segmentation\n",
      "  0%|                                               | 0.00/83.8k [00:00<?, ?B/s]\n",
      "100%|██████████████████████████████████████| 83.8k/83.8k [00:00<00:00, 1.24MB/s]\n"
     ]
    }
   ],
   "source": [
    "!kaggle competitions download --force -c {competition_name} -p {data_path}"
   ]
  },
  {
   "cell_type": "code",
   "execution_count": 5,
   "metadata": {},
   "outputs": [
    {
     "data": {
      "text/plain": [
       "[PosixPath('/home/krzysiek/.fastai/data/SIIM_ACR_Pneumothorax_Segmentation/download_images.py'),\n",
       " PosixPath('/home/krzysiek/.fastai/data/SIIM_ACR_Pneumothorax_Segmentation/mask_functions.py'),\n",
       " PosixPath('/home/krzysiek/.fastai/data/SIIM_ACR_Pneumothorax_Segmentation/sample%20images.zip'),\n",
       " PosixPath('/home/krzysiek/.fastai/data/SIIM_ACR_Pneumothorax_Segmentation/sample_submission.csv')]"
      ]
     },
     "execution_count": 5,
     "metadata": {},
     "output_type": "execute_result"
    }
   ],
   "source": [
    "data_path.ls()"
   ]
  },
  {
   "cell_type": "code",
   "execution_count": 6,
   "metadata": {},
   "outputs": [],
   "source": [
    "submission_file = data_path/'sample_submission.csv'"
   ]
  },
  {
   "cell_type": "code",
   "execution_count": 7,
   "metadata": {},
   "outputs": [
    {
     "name": "stdout",
     "output_type": "stream",
     "text": [
      "100%|██████████████████████████████████████| 83.8k/83.8k [00:04<00:00, 18.9kB/s]\n",
      "Successfully submitted to SIIM-ACR Pneumothorax Segmentation"
     ]
    }
   ],
   "source": [
    "!kaggle competitions submit {competition_name} -f {submission_file} -m \"Sample submission\""
   ]
  },
  {
   "cell_type": "code",
   "execution_count": 8,
   "metadata": {},
   "outputs": [],
   "source": [
    "submission = pd.read_csv(submission_file)"
   ]
  },
  {
   "cell_type": "code",
   "execution_count": 12,
   "metadata": {},
   "outputs": [
    {
     "data": {
      "text/plain": [
       "'1.2.276.0.7230010.3.1.4.8323329.6170.1517875196.850168'"
      ]
     },
     "execution_count": 12,
     "metadata": {},
     "output_type": "execute_result"
    }
   ],
   "source": [
    "submission.iloc[1].ImageId"
   ]
  },
  {
   "cell_type": "code",
   "execution_count": null,
   "metadata": {},
   "outputs": [],
   "source": []
  }
 ],
 "metadata": {
  "kernelspec": {
   "display_name": "Python [conda env:kaggle_sandbox]",
   "language": "python",
   "name": "conda-env-kaggle_sandbox-py"
  },
  "language_info": {
   "codemirror_mode": {
    "name": "ipython",
    "version": 3
   },
   "file_extension": ".py",
   "mimetype": "text/x-python",
   "name": "python",
   "nbconvert_exporter": "python",
   "pygments_lexer": "ipython3",
   "version": "3.7.2"
  }
 },
 "nbformat": 4,
 "nbformat_minor": 2
}
